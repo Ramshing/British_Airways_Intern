{
 "cells": [
  {
   "cell_type": "markdown",
   "id": "b46f2882",
   "metadata": {},
   "source": [
    "# Customer Booking Behaviour Analysis"
   ]
  },
  {
   "cell_type": "code",
   "execution_count": 71,
   "id": "7dfef916",
   "metadata": {},
   "outputs": [],
   "source": [
    "import pandas as pd\n",
    "import numpy as np\n",
    "import matplotlib.pyplot as plt\n",
    "import seaborn as sns\n",
    "%matplotlib inline\n",
    "import warnings"
   ]
  },
  {
   "cell_type": "code",
   "execution_count": null,
   "id": "70314bca",
   "metadata": {},
   "outputs": [],
   "source": []
  },
  {
   "cell_type": "code",
   "execution_count": 136,
   "id": "27d9fe77",
   "metadata": {},
   "outputs": [
    {
     "data": {
      "text/html": [
       "<div>\n",
       "<style scoped>\n",
       "    .dataframe tbody tr th:only-of-type {\n",
       "        vertical-align: middle;\n",
       "    }\n",
       "\n",
       "    .dataframe tbody tr th {\n",
       "        vertical-align: top;\n",
       "    }\n",
       "\n",
       "    .dataframe thead th {\n",
       "        text-align: right;\n",
       "    }\n",
       "</style>\n",
       "<table border=\"1\" class=\"dataframe\">\n",
       "  <thead>\n",
       "    <tr style=\"text-align: right;\">\n",
       "      <th></th>\n",
       "      <th>num_passengers</th>\n",
       "      <th>sales_channel</th>\n",
       "      <th>trip_type</th>\n",
       "      <th>purchase_lead</th>\n",
       "      <th>length_of_stay</th>\n",
       "      <th>flight_hour</th>\n",
       "      <th>flight_day</th>\n",
       "      <th>route</th>\n",
       "      <th>booking_origin</th>\n",
       "      <th>wants_extra_baggage</th>\n",
       "      <th>wants_preferred_seat</th>\n",
       "      <th>wants_in_flight_meals</th>\n",
       "      <th>flight_duration</th>\n",
       "      <th>booking_complete</th>\n",
       "    </tr>\n",
       "  </thead>\n",
       "  <tbody>\n",
       "    <tr>\n",
       "      <th>0</th>\n",
       "      <td>2</td>\n",
       "      <td>Internet</td>\n",
       "      <td>RoundTrip</td>\n",
       "      <td>262</td>\n",
       "      <td>19</td>\n",
       "      <td>7</td>\n",
       "      <td>Sat</td>\n",
       "      <td>AKLDEL</td>\n",
       "      <td>New Zealand</td>\n",
       "      <td>1</td>\n",
       "      <td>0</td>\n",
       "      <td>0</td>\n",
       "      <td>5.52</td>\n",
       "      <td>0</td>\n",
       "    </tr>\n",
       "    <tr>\n",
       "      <th>1</th>\n",
       "      <td>1</td>\n",
       "      <td>Internet</td>\n",
       "      <td>RoundTrip</td>\n",
       "      <td>112</td>\n",
       "      <td>20</td>\n",
       "      <td>3</td>\n",
       "      <td>Sat</td>\n",
       "      <td>AKLDEL</td>\n",
       "      <td>New Zealand</td>\n",
       "      <td>0</td>\n",
       "      <td>0</td>\n",
       "      <td>0</td>\n",
       "      <td>5.52</td>\n",
       "      <td>0</td>\n",
       "    </tr>\n",
       "    <tr>\n",
       "      <th>2</th>\n",
       "      <td>2</td>\n",
       "      <td>Internet</td>\n",
       "      <td>RoundTrip</td>\n",
       "      <td>243</td>\n",
       "      <td>22</td>\n",
       "      <td>17</td>\n",
       "      <td>Wed</td>\n",
       "      <td>AKLDEL</td>\n",
       "      <td>India</td>\n",
       "      <td>1</td>\n",
       "      <td>1</td>\n",
       "      <td>0</td>\n",
       "      <td>5.52</td>\n",
       "      <td>0</td>\n",
       "    </tr>\n",
       "    <tr>\n",
       "      <th>3</th>\n",
       "      <td>1</td>\n",
       "      <td>Internet</td>\n",
       "      <td>RoundTrip</td>\n",
       "      <td>96</td>\n",
       "      <td>31</td>\n",
       "      <td>4</td>\n",
       "      <td>Sat</td>\n",
       "      <td>AKLDEL</td>\n",
       "      <td>New Zealand</td>\n",
       "      <td>0</td>\n",
       "      <td>0</td>\n",
       "      <td>1</td>\n",
       "      <td>5.52</td>\n",
       "      <td>0</td>\n",
       "    </tr>\n",
       "    <tr>\n",
       "      <th>4</th>\n",
       "      <td>2</td>\n",
       "      <td>Internet</td>\n",
       "      <td>RoundTrip</td>\n",
       "      <td>68</td>\n",
       "      <td>22</td>\n",
       "      <td>15</td>\n",
       "      <td>Wed</td>\n",
       "      <td>AKLDEL</td>\n",
       "      <td>India</td>\n",
       "      <td>1</td>\n",
       "      <td>0</td>\n",
       "      <td>1</td>\n",
       "      <td>5.52</td>\n",
       "      <td>0</td>\n",
       "    </tr>\n",
       "    <tr>\n",
       "      <th>5</th>\n",
       "      <td>1</td>\n",
       "      <td>Internet</td>\n",
       "      <td>RoundTrip</td>\n",
       "      <td>3</td>\n",
       "      <td>48</td>\n",
       "      <td>20</td>\n",
       "      <td>Thu</td>\n",
       "      <td>AKLDEL</td>\n",
       "      <td>New Zealand</td>\n",
       "      <td>1</td>\n",
       "      <td>0</td>\n",
       "      <td>1</td>\n",
       "      <td>5.52</td>\n",
       "      <td>0</td>\n",
       "    </tr>\n",
       "    <tr>\n",
       "      <th>6</th>\n",
       "      <td>3</td>\n",
       "      <td>Internet</td>\n",
       "      <td>RoundTrip</td>\n",
       "      <td>201</td>\n",
       "      <td>33</td>\n",
       "      <td>6</td>\n",
       "      <td>Thu</td>\n",
       "      <td>AKLDEL</td>\n",
       "      <td>New Zealand</td>\n",
       "      <td>1</td>\n",
       "      <td>0</td>\n",
       "      <td>1</td>\n",
       "      <td>5.52</td>\n",
       "      <td>0</td>\n",
       "    </tr>\n",
       "    <tr>\n",
       "      <th>7</th>\n",
       "      <td>2</td>\n",
       "      <td>Internet</td>\n",
       "      <td>RoundTrip</td>\n",
       "      <td>238</td>\n",
       "      <td>19</td>\n",
       "      <td>14</td>\n",
       "      <td>Mon</td>\n",
       "      <td>AKLDEL</td>\n",
       "      <td>India</td>\n",
       "      <td>1</td>\n",
       "      <td>0</td>\n",
       "      <td>1</td>\n",
       "      <td>5.52</td>\n",
       "      <td>0</td>\n",
       "    </tr>\n",
       "    <tr>\n",
       "      <th>8</th>\n",
       "      <td>1</td>\n",
       "      <td>Internet</td>\n",
       "      <td>RoundTrip</td>\n",
       "      <td>80</td>\n",
       "      <td>22</td>\n",
       "      <td>4</td>\n",
       "      <td>Mon</td>\n",
       "      <td>AKLDEL</td>\n",
       "      <td>New Zealand</td>\n",
       "      <td>0</td>\n",
       "      <td>0</td>\n",
       "      <td>1</td>\n",
       "      <td>5.52</td>\n",
       "      <td>0</td>\n",
       "    </tr>\n",
       "    <tr>\n",
       "      <th>9</th>\n",
       "      <td>1</td>\n",
       "      <td>Mobile</td>\n",
       "      <td>RoundTrip</td>\n",
       "      <td>378</td>\n",
       "      <td>30</td>\n",
       "      <td>12</td>\n",
       "      <td>Sun</td>\n",
       "      <td>AKLDEL</td>\n",
       "      <td>India</td>\n",
       "      <td>0</td>\n",
       "      <td>0</td>\n",
       "      <td>0</td>\n",
       "      <td>5.52</td>\n",
       "      <td>0</td>\n",
       "    </tr>\n",
       "  </tbody>\n",
       "</table>\n",
       "</div>"
      ],
      "text/plain": [
       "   num_passengers sales_channel  trip_type  purchase_lead  length_of_stay  \\\n",
       "0               2      Internet  RoundTrip            262              19   \n",
       "1               1      Internet  RoundTrip            112              20   \n",
       "2               2      Internet  RoundTrip            243              22   \n",
       "3               1      Internet  RoundTrip             96              31   \n",
       "4               2      Internet  RoundTrip             68              22   \n",
       "5               1      Internet  RoundTrip              3              48   \n",
       "6               3      Internet  RoundTrip            201              33   \n",
       "7               2      Internet  RoundTrip            238              19   \n",
       "8               1      Internet  RoundTrip             80              22   \n",
       "9               1        Mobile  RoundTrip            378              30   \n",
       "\n",
       "   flight_hour flight_day   route booking_origin  wants_extra_baggage  \\\n",
       "0            7        Sat  AKLDEL    New Zealand                    1   \n",
       "1            3        Sat  AKLDEL    New Zealand                    0   \n",
       "2           17        Wed  AKLDEL          India                    1   \n",
       "3            4        Sat  AKLDEL    New Zealand                    0   \n",
       "4           15        Wed  AKLDEL          India                    1   \n",
       "5           20        Thu  AKLDEL    New Zealand                    1   \n",
       "6            6        Thu  AKLDEL    New Zealand                    1   \n",
       "7           14        Mon  AKLDEL          India                    1   \n",
       "8            4        Mon  AKLDEL    New Zealand                    0   \n",
       "9           12        Sun  AKLDEL          India                    0   \n",
       "\n",
       "   wants_preferred_seat  wants_in_flight_meals  flight_duration  \\\n",
       "0                     0                      0             5.52   \n",
       "1                     0                      0             5.52   \n",
       "2                     1                      0             5.52   \n",
       "3                     0                      1             5.52   \n",
       "4                     0                      1             5.52   \n",
       "5                     0                      1             5.52   \n",
       "6                     0                      1             5.52   \n",
       "7                     0                      1             5.52   \n",
       "8                     0                      1             5.52   \n",
       "9                     0                      0             5.52   \n",
       "\n",
       "   booking_complete  \n",
       "0                 0  \n",
       "1                 0  \n",
       "2                 0  \n",
       "3                 0  \n",
       "4                 0  \n",
       "5                 0  \n",
       "6                 0  \n",
       "7                 0  \n",
       "8                 0  \n",
       "9                 0  "
      ]
     },
     "execution_count": 136,
     "metadata": {},
     "output_type": "execute_result"
    }
   ],
   "source": [
    "df=pd.read_csv(r\"C:\\Users\\dinyz\\Internships\\Forage_Virtual_Intern_British_Airways\\Task-2\\customer_booking.csv\",encoding='latin-1')\n",
    "df.head(10)"
   ]
  },
  {
   "cell_type": "code",
   "execution_count": 73,
   "id": "5d37fb22",
   "metadata": {},
   "outputs": [
    {
     "data": {
      "text/plain": [
       "(50000, 14)"
      ]
     },
     "execution_count": 73,
     "metadata": {},
     "output_type": "execute_result"
    }
   ],
   "source": [
    "df.shape"
   ]
  },
  {
   "cell_type": "code",
   "execution_count": 74,
   "id": "ca1c9c33",
   "metadata": {},
   "outputs": [
    {
     "name": "stdout",
     "output_type": "stream",
     "text": [
      "<class 'pandas.core.frame.DataFrame'>\n",
      "RangeIndex: 50000 entries, 0 to 49999\n",
      "Data columns (total 14 columns):\n",
      " #   Column                 Non-Null Count  Dtype  \n",
      "---  ------                 --------------  -----  \n",
      " 0   num_passengers         50000 non-null  int64  \n",
      " 1   sales_channel          50000 non-null  object \n",
      " 2   trip_type              50000 non-null  object \n",
      " 3   purchase_lead          50000 non-null  int64  \n",
      " 4   length_of_stay         50000 non-null  int64  \n",
      " 5   flight_hour            50000 non-null  int64  \n",
      " 6   flight_day             50000 non-null  object \n",
      " 7   route                  50000 non-null  object \n",
      " 8   booking_origin         50000 non-null  object \n",
      " 9   wants_extra_baggage    50000 non-null  int64  \n",
      " 10  wants_preferred_seat   50000 non-null  int64  \n",
      " 11  wants_in_flight_meals  50000 non-null  int64  \n",
      " 12  flight_duration        50000 non-null  float64\n",
      " 13  booking_complete       50000 non-null  int64  \n",
      "dtypes: float64(1), int64(8), object(5)\n",
      "memory usage: 5.3+ MB\n"
     ]
    }
   ],
   "source": [
    "df.info()"
   ]
  },
  {
   "cell_type": "code",
   "execution_count": 75,
   "id": "bf7f6d09",
   "metadata": {},
   "outputs": [
    {
     "data": {
      "text/plain": [
       "num_passengers           0\n",
       "sales_channel            0\n",
       "trip_type                0\n",
       "purchase_lead            0\n",
       "length_of_stay           0\n",
       "flight_hour              0\n",
       "flight_day               0\n",
       "route                    0\n",
       "booking_origin           0\n",
       "wants_extra_baggage      0\n",
       "wants_preferred_seat     0\n",
       "wants_in_flight_meals    0\n",
       "flight_duration          0\n",
       "booking_complete         0\n",
       "dtype: int64"
      ]
     },
     "execution_count": 75,
     "metadata": {},
     "output_type": "execute_result"
    }
   ],
   "source": [
    "df.isnull().sum()"
   ]
  },
  {
   "cell_type": "code",
   "execution_count": 76,
   "id": "7351c575",
   "metadata": {},
   "outputs": [
    {
     "data": {
      "text/plain": [
       "0    42522\n",
       "1     7478\n",
       "Name: booking_complete, dtype: int64"
      ]
     },
     "execution_count": 76,
     "metadata": {},
     "output_type": "execute_result"
    }
   ],
   "source": [
    "df['booking_complete'].value_counts()"
   ]
  },
  {
   "cell_type": "code",
   "execution_count": 77,
   "id": "4c9cc29f",
   "metadata": {},
   "outputs": [
    {
     "data": {
      "text/plain": [
       "<AxesSubplot:>"
      ]
     },
     "execution_count": 77,
     "metadata": {},
     "output_type": "execute_result"
    },
    {
     "data": {
      "image/png": "[encoded data removed]",
      "text/plain": [
       "<Figure size 432x288 with 1 Axes>"
      ]
     },
     "metadata": {
      "needs_background": "light"
     },
     "output_type": "display_data"
    }
   ],
   "source": [
    "df['trip_type'].value_counts().plot(kind='bar')"
   ]
  },
  {
   "cell_type": "code",
   "execution_count": 78,
   "id": "13b07f23",
   "metadata": {},
   "outputs": [
    {
     "data": {
      "text/plain": [
       "<AxesSubplot:>"
      ]
     },
     "execution_count": 78,
     "metadata": {},
     "output_type": "execute_result"
    },
    {
     "data": {
      "image/png": "[encoded data removed]",
      "text/plain": [
       "<Figure size 432x288 with 1 Axes>"
      ]
     },
     "metadata": {
      "needs_background": "light"
     },
     "output_type": "display_data"
    }
   ],
   "source": [
    "df['flight_hour'].value_counts().sort_values(ascending=True).plot(kind='bar')"
   ]
  },
  {
   "cell_type": "code",
   "execution_count": 79,
   "id": "2f30063e",
   "metadata": {},
   "outputs": [
    {
     "data": {
      "image/png": "[encoded data removed]",
      "text/plain": [
       "<Figure size 1152x432 with 1 Axes>"
      ]
     },
     "metadata": {
      "needs_background": "light"
     },
     "output_type": "display_data"
    }
   ],
   "source": [
    "trip_flight_hour=df.groupby('flight_hour')['trip_type'].value_counts()\n",
    "plt.figure(figsize=(16,6))\n",
    "trip_flight_hour.plot.bar()\n",
    "plt.title('trip_type and flight_hour distribution')\n",
    "plt.show()"
   ]
  },
  {
   "cell_type": "code",
   "execution_count": 80,
   "id": "fb23659e",
   "metadata": {},
   "outputs": [
    {
     "data": {
      "text/plain": [
       "<AxesSubplot:>"
      ]
     },
     "execution_count": 80,
     "metadata": {},
     "output_type": "execute_result"
    },
    {
     "data": {
      "image/png": "[encoded data removed]",
      "text/plain": [
       "<Figure size 432x288 with 2 Axes>"
      ]
     },
     "metadata": {
      "needs_background": "light"
     },
     "output_type": "display_data"
    }
   ],
   "source": [
    "# How targeted variable affects other variables\n",
    "corr=df.corr()[['booking_complete']]\n",
    "sns.heatmap(corr,annot=True)"
   ]
  },
  {
   "cell_type": "markdown",
   "id": "0180df52",
   "metadata": {},
   "source": [
    "# Seperating dependent and independent features"
   ]
  },
  {
   "cell_type": "code",
   "execution_count": 81,
   "id": "4a971de4",
   "metadata": {},
   "outputs": [],
   "source": [
    "x=df.drop('booking_complete',axis=1)\n",
    "y=df['booking_complete']"
   ]
  },
  {
   "cell_type": "code",
   "execution_count": 82,
   "id": "6174f145",
   "metadata": {},
   "outputs": [],
   "source": [
    "# changing object dtype to int type\n",
    "for i in x.select_dtypes('object'):\n",
    "    x[i],_=x[i].factorize()"
   ]
  },
  {
   "cell_type": "code",
   "execution_count": 83,
   "id": "93d134c6",
   "metadata": {},
   "outputs": [
    {
     "data": {
      "text/plain": [
       "num_passengers             int64\n",
       "sales_channel              int64\n",
       "trip_type                  int64\n",
       "purchase_lead              int64\n",
       "length_of_stay             int64\n",
       "flight_hour                int64\n",
       "flight_day                 int64\n",
       "route                      int64\n",
       "booking_origin             int64\n",
       "wants_extra_baggage        int64\n",
       "wants_preferred_seat       int64\n",
       "wants_in_flight_meals      int64\n",
       "flight_duration          float64\n",
       "dtype: object"
      ]
     },
     "execution_count": 83,
     "metadata": {},
     "output_type": "execute_result"
    }
   ],
   "source": [
    "x.dtypes"
   ]
  },
  {
   "cell_type": "markdown",
   "id": "e9e8ed65",
   "metadata": {},
   "source": [
    "# Feature Selection"
   ]
  },
  {
   "cell_type": "raw",
   "id": "c9dbd752",
   "metadata": {},
   "source": [
    "1. Filter method\n",
    "    1.1 Correlation Filter\n",
    "    1.2 Mutual Information Filter\n",
    "    1.3 Chi-Square Filter\n",
    "    1.4 Variance Filter"
   ]
  },
  {
   "cell_type": "markdown",
   "id": "44995a89",
   "metadata": {},
   "source": [
    "# Mutual Information"
   ]
  },
  {
   "cell_type": "code",
   "execution_count": 84,
   "id": "95a86877",
   "metadata": {},
   "outputs": [],
   "source": [
    "from sklearn.feature_selection import mutual_info_classif\n",
    "mi=mutual_info_classif(x,y)"
   ]
  },
  {
   "cell_type": "code",
   "execution_count": 85,
   "id": "13931d87",
   "metadata": {},
   "outputs": [],
   "source": [
    "mi=pd.Series(mi,name='MI Scores',index=x.columns)\n",
    "mi=mi.sort_values(ascending=False)"
   ]
  },
  {
   "cell_type": "code",
   "execution_count": 86,
   "id": "c5c83711",
   "metadata": {},
   "outputs": [
    {
     "data": {
      "text/plain": [
       "route                    0.054013\n",
       "booking_origin           0.048502\n",
       "flight_duration          0.016989\n",
       "wants_extra_baggage      0.011784\n",
       "length_of_stay           0.008584\n",
       "wants_in_flight_meals    0.003788\n",
       "wants_preferred_seat     0.003672\n",
       "trip_type                0.003105\n",
       "num_passengers           0.002212\n",
       "flight_day               0.001858\n",
       "sales_channel            0.000000\n",
       "purchase_lead            0.000000\n",
       "flight_hour              0.000000\n",
       "Name: MI Scores, dtype: float64"
      ]
     },
     "execution_count": 86,
     "metadata": {},
     "output_type": "execute_result"
    }
   ],
   "source": [
    "mi"
   ]
  },
  {
   "cell_type": "code",
   "execution_count": 87,
   "id": "63f42bbe",
   "metadata": {},
   "outputs": [
    {
     "data": {
      "image/png": "[encoded data removed]",
      "text/plain": [
       "<Figure size 1600x500 with 1 Axes>"
      ]
     },
     "metadata": {
      "needs_background": "light"
     },
     "output_type": "display_data"
    }
   ],
   "source": [
    "def plot_mi(data):\n",
    "    data=data.sort_values(ascending=True)\n",
    "    width=np.arange(len(data))\n",
    "    ticks=list(data.index)\n",
    "    plt.barh(width,data)\n",
    "    plt.yticks(width,ticks)\n",
    "    plt.title('Mutual Information Scores')\n",
    "    \n",
    "plt.figure(dpi=100,figsize=(16,5))\n",
    "plot_mi(mi)"
   ]
  },
  {
   "cell_type": "markdown",
   "id": "ff3daf36",
   "metadata": {},
   "source": [
    "# Correlation Filter"
   ]
  },
  {
   "cell_type": "code",
   "execution_count": 88,
   "id": "114446b6",
   "metadata": {},
   "outputs": [
    {
     "data": {
      "text/html": [
       "<div>\n",
       "<style scoped>\n",
       "    .dataframe tbody tr th:only-of-type {\n",
       "        vertical-align: middle;\n",
       "    }\n",
       "\n",
       "    .dataframe tbody tr th {\n",
       "        vertical-align: top;\n",
       "    }\n",
       "\n",
       "    .dataframe thead th {\n",
       "        text-align: right;\n",
       "    }\n",
       "</style>\n",
       "<table border=\"1\" class=\"dataframe\">\n",
       "  <thead>\n",
       "    <tr style=\"text-align: right;\">\n",
       "      <th></th>\n",
       "      <th>num_passengers</th>\n",
       "      <th>sales_channel</th>\n",
       "      <th>trip_type</th>\n",
       "      <th>purchase_lead</th>\n",
       "      <th>length_of_stay</th>\n",
       "      <th>flight_hour</th>\n",
       "      <th>flight_day</th>\n",
       "      <th>route</th>\n",
       "      <th>booking_origin</th>\n",
       "      <th>wants_extra_baggage</th>\n",
       "      <th>wants_preferred_seat</th>\n",
       "      <th>wants_in_flight_meals</th>\n",
       "      <th>flight_duration</th>\n",
       "    </tr>\n",
       "  </thead>\n",
       "  <tbody>\n",
       "    <tr>\n",
       "      <th>num_passengers</th>\n",
       "      <td>1.000000</td>\n",
       "      <td>-0.002457</td>\n",
       "      <td>-0.002398</td>\n",
       "      <td>0.212606</td>\n",
       "      <td>-0.115850</td>\n",
       "      <td>0.015607</td>\n",
       "      <td>-0.007096</td>\n",
       "      <td>-0.039191</td>\n",
       "      <td>-0.128836</td>\n",
       "      <td>0.120404</td>\n",
       "      <td>0.028544</td>\n",
       "      <td>0.022943</td>\n",
       "      <td>-0.063169</td>\n",
       "    </tr>\n",
       "    <tr>\n",
       "      <th>sales_channel</th>\n",
       "      <td>-0.002457</td>\n",
       "      <td>1.000000</td>\n",
       "      <td>-0.020929</td>\n",
       "      <td>-0.013399</td>\n",
       "      <td>-0.060352</td>\n",
       "      <td>0.022375</td>\n",
       "      <td>-0.000780</td>\n",
       "      <td>-0.013403</td>\n",
       "      <td>-0.060382</td>\n",
       "      <td>-0.054254</td>\n",
       "      <td>0.032943</td>\n",
       "      <td>-0.022235</td>\n",
       "      <td>-0.038629</td>\n",
       "    </tr>\n",
       "    <tr>\n",
       "      <th>trip_type</th>\n",
       "      <td>-0.002398</td>\n",
       "      <td>-0.020929</td>\n",
       "      <td>1.000000</td>\n",
       "      <td>0.007691</td>\n",
       "      <td>-0.011779</td>\n",
       "      <td>0.003194</td>\n",
       "      <td>0.004133</td>\n",
       "      <td>0.011905</td>\n",
       "      <td>0.008017</td>\n",
       "      <td>0.010716</td>\n",
       "      <td>-0.007786</td>\n",
       "      <td>-0.014732</td>\n",
       "      <td>0.043418</td>\n",
       "    </tr>\n",
       "    <tr>\n",
       "      <th>purchase_lead</th>\n",
       "      <td>0.212606</td>\n",
       "      <td>-0.013399</td>\n",
       "      <td>0.007691</td>\n",
       "      <td>1.000000</td>\n",
       "      <td>-0.076560</td>\n",
       "      <td>0.035973</td>\n",
       "      <td>0.011917</td>\n",
       "      <td>-0.104828</td>\n",
       "      <td>-0.077272</td>\n",
       "      <td>-0.022207</td>\n",
       "      <td>-0.004499</td>\n",
       "      <td>-0.022653</td>\n",
       "      <td>0.067866</td>\n",
       "    </tr>\n",
       "    <tr>\n",
       "      <th>length_of_stay</th>\n",
       "      <td>-0.115850</td>\n",
       "      <td>-0.060352</td>\n",
       "      <td>-0.011779</td>\n",
       "      <td>-0.076560</td>\n",
       "      <td>1.000000</td>\n",
       "      <td>-0.024872</td>\n",
       "      <td>0.000791</td>\n",
       "      <td>-0.004616</td>\n",
       "      <td>0.112914</td>\n",
       "      <td>0.176757</td>\n",
       "      <td>0.032264</td>\n",
       "      <td>0.098828</td>\n",
       "      <td>0.141181</td>\n",
       "    </tr>\n",
       "    <tr>\n",
       "      <th>flight_hour</th>\n",
       "      <td>0.015607</td>\n",
       "      <td>0.022375</td>\n",
       "      <td>0.003194</td>\n",
       "      <td>0.035973</td>\n",
       "      <td>-0.024872</td>\n",
       "      <td>1.000000</td>\n",
       "      <td>0.000455</td>\n",
       "      <td>-0.016650</td>\n",
       "      <td>-0.015756</td>\n",
       "      <td>-0.011434</td>\n",
       "      <td>0.012171</td>\n",
       "      <td>0.013014</td>\n",
       "      <td>-0.002101</td>\n",
       "    </tr>\n",
       "    <tr>\n",
       "      <th>flight_day</th>\n",
       "      <td>-0.007096</td>\n",
       "      <td>-0.000780</td>\n",
       "      <td>0.004133</td>\n",
       "      <td>0.011917</td>\n",
       "      <td>0.000791</td>\n",
       "      <td>0.000455</td>\n",
       "      <td>1.000000</td>\n",
       "      <td>-0.010172</td>\n",
       "      <td>-0.003214</td>\n",
       "      <td>-0.003761</td>\n",
       "      <td>-0.009210</td>\n",
       "      <td>-0.001845</td>\n",
       "      <td>-0.001400</td>\n",
       "    </tr>\n",
       "    <tr>\n",
       "      <th>route</th>\n",
       "      <td>-0.039191</td>\n",
       "      <td>-0.013403</td>\n",
       "      <td>0.011905</td>\n",
       "      <td>-0.104828</td>\n",
       "      <td>-0.004616</td>\n",
       "      <td>-0.016650</td>\n",
       "      <td>-0.010172</td>\n",
       "      <td>1.000000</td>\n",
       "      <td>0.195515</td>\n",
       "      <td>0.022008</td>\n",
       "      <td>0.012699</td>\n",
       "      <td>-0.014119</td>\n",
       "      <td>-0.150993</td>\n",
       "    </tr>\n",
       "    <tr>\n",
       "      <th>booking_origin</th>\n",
       "      <td>-0.128836</td>\n",
       "      <td>-0.060382</td>\n",
       "      <td>0.008017</td>\n",
       "      <td>-0.077272</td>\n",
       "      <td>0.112914</td>\n",
       "      <td>-0.015756</td>\n",
       "      <td>-0.003214</td>\n",
       "      <td>0.195515</td>\n",
       "      <td>1.000000</td>\n",
       "      <td>0.051515</td>\n",
       "      <td>0.043292</td>\n",
       "      <td>0.085755</td>\n",
       "      <td>0.160598</td>\n",
       "    </tr>\n",
       "    <tr>\n",
       "      <th>wants_extra_baggage</th>\n",
       "      <td>0.120404</td>\n",
       "      <td>-0.054254</td>\n",
       "      <td>0.010716</td>\n",
       "      <td>-0.022207</td>\n",
       "      <td>0.176757</td>\n",
       "      <td>-0.011434</td>\n",
       "      <td>-0.003761</td>\n",
       "      <td>0.022008</td>\n",
       "      <td>0.051515</td>\n",
       "      <td>1.000000</td>\n",
       "      <td>0.207669</td>\n",
       "      <td>0.216470</td>\n",
       "      <td>0.057054</td>\n",
       "    </tr>\n",
       "    <tr>\n",
       "      <th>wants_preferred_seat</th>\n",
       "      <td>0.028544</td>\n",
       "      <td>0.032943</td>\n",
       "      <td>-0.007786</td>\n",
       "      <td>-0.004499</td>\n",
       "      <td>0.032264</td>\n",
       "      <td>0.012171</td>\n",
       "      <td>-0.009210</td>\n",
       "      <td>0.012699</td>\n",
       "      <td>0.043292</td>\n",
       "      <td>0.207669</td>\n",
       "      <td>1.000000</td>\n",
       "      <td>0.315088</td>\n",
       "      <td>0.101289</td>\n",
       "    </tr>\n",
       "    <tr>\n",
       "      <th>wants_in_flight_meals</th>\n",
       "      <td>0.022943</td>\n",
       "      <td>-0.022235</td>\n",
       "      <td>-0.014732</td>\n",
       "      <td>-0.022653</td>\n",
       "      <td>0.098828</td>\n",
       "      <td>0.013014</td>\n",
       "      <td>-0.001845</td>\n",
       "      <td>-0.014119</td>\n",
       "      <td>0.085755</td>\n",
       "      <td>0.216470</td>\n",
       "      <td>0.315088</td>\n",
       "      <td>1.000000</td>\n",
       "      <td>0.154312</td>\n",
       "    </tr>\n",
       "    <tr>\n",
       "      <th>flight_duration</th>\n",
       "      <td>-0.063169</td>\n",
       "      <td>-0.038629</td>\n",
       "      <td>0.043418</td>\n",
       "      <td>0.067866</td>\n",
       "      <td>0.141181</td>\n",
       "      <td>-0.002101</td>\n",
       "      <td>-0.001400</td>\n",
       "      <td>-0.150993</td>\n",
       "      <td>0.160598</td>\n",
       "      <td>0.057054</td>\n",
       "      <td>0.101289</td>\n",
       "      <td>0.154312</td>\n",
       "      <td>1.000000</td>\n",
       "    </tr>\n",
       "  </tbody>\n",
       "</table>\n",
       "</div>"
      ],
      "text/plain": [
       "                       num_passengers  sales_channel  trip_type  \\\n",
       "num_passengers               1.000000      -0.002457  -0.002398   \n",
       "sales_channel               -0.002457       1.000000  -0.020929   \n",
       "trip_type                   -0.002398      -0.020929   1.000000   \n",
       "purchase_lead                0.212606      -0.013399   0.007691   \n",
       "length_of_stay              -0.115850      -0.060352  -0.011779   \n",
       "flight_hour                  0.015607       0.022375   0.003194   \n",
       "flight_day                  -0.007096      -0.000780   0.004133   \n",
       "route                       -0.039191      -0.013403   0.011905   \n",
       "booking_origin              -0.128836      -0.060382   0.008017   \n",
       "wants_extra_baggage          0.120404      -0.054254   0.010716   \n",
       "wants_preferred_seat         0.028544       0.032943  -0.007786   \n",
       "wants_in_flight_meals        0.022943      -0.022235  -0.014732   \n",
       "flight_duration             -0.063169      -0.038629   0.043418   \n",
       "\n",
       "                       purchase_lead  length_of_stay  flight_hour  flight_day  \\\n",
       "num_passengers              0.212606       -0.115850     0.015607   -0.007096   \n",
       "sales_channel              -0.013399       -0.060352     0.022375   -0.000780   \n",
       "trip_type                   0.007691       -0.011779     0.003194    0.004133   \n",
       "purchase_lead               1.000000       -0.076560     0.035973    0.011917   \n",
       "length_of_stay             -0.076560        1.000000    -0.024872    0.000791   \n",
       "flight_hour                 0.035973       -0.024872     1.000000    0.000455   \n",
       "flight_day                  0.011917        0.000791     0.000455    1.000000   \n",
       "route                      -0.104828       -0.004616    -0.016650   -0.010172   \n",
       "booking_origin             -0.077272        0.112914    -0.015756   -0.003214   \n",
       "wants_extra_baggage        -0.022207        0.176757    -0.011434   -0.003761   \n",
       "wants_preferred_seat       -0.004499        0.032264     0.012171   -0.009210   \n",
       "wants_in_flight_meals      -0.022653        0.098828     0.013014   -0.001845   \n",
       "flight_duration             0.067866        0.141181    -0.002101   -0.001400   \n",
       "\n",
       "                          route  booking_origin  wants_extra_baggage  \\\n",
       "num_passengers        -0.039191       -0.128836             0.120404   \n",
       "sales_channel         -0.013403       -0.060382            -0.054254   \n",
       "trip_type              0.011905        0.008017             0.010716   \n",
       "purchase_lead         -0.104828       -0.077272            -0.022207   \n",
       "length_of_stay        -0.004616        0.112914             0.176757   \n",
       "flight_hour           -0.016650       -0.015756            -0.011434   \n",
       "flight_day            -0.010172       -0.003214            -0.003761   \n",
       "route                  1.000000        0.195515             0.022008   \n",
       "booking_origin         0.195515        1.000000             0.051515   \n",
       "wants_extra_baggage    0.022008        0.051515             1.000000   \n",
       "wants_preferred_seat   0.012699        0.043292             0.207669   \n",
       "wants_in_flight_meals -0.014119        0.085755             0.216470   \n",
       "flight_duration       -0.150993        0.160598             0.057054   \n",
       "\n",
       "                       wants_preferred_seat  wants_in_flight_meals  \\\n",
       "num_passengers                     0.028544               0.022943   \n",
       "sales_channel                      0.032943              -0.022235   \n",
       "trip_type                         -0.007786              -0.014732   \n",
       "purchase_lead                     -0.004499              -0.022653   \n",
       "length_of_stay                     0.032264               0.098828   \n",
       "flight_hour                        0.012171               0.013014   \n",
       "flight_day                        -0.009210              -0.001845   \n",
       "route                              0.012699              -0.014119   \n",
       "booking_origin                     0.043292               0.085755   \n",
       "wants_extra_baggage                0.207669               0.216470   \n",
       "wants_preferred_seat               1.000000               0.315088   \n",
       "wants_in_flight_meals              0.315088               1.000000   \n",
       "flight_duration                    0.101289               0.154312   \n",
       "\n",
       "                       flight_duration  \n",
       "num_passengers               -0.063169  \n",
       "sales_channel                -0.038629  \n",
       "trip_type                     0.043418  \n",
       "purchase_lead                 0.067866  \n",
       "length_of_stay                0.141181  \n",
       "flight_hour                  -0.002101  \n",
       "flight_day                   -0.001400  \n",
       "route                        -0.150993  \n",
       "booking_origin                0.160598  \n",
       "wants_extra_baggage           0.057054  \n",
       "wants_preferred_seat          0.101289  \n",
       "wants_in_flight_meals         0.154312  \n",
       "flight_duration               1.000000  "
      ]
     },
     "execution_count": 88,
     "metadata": {},
     "output_type": "execute_result"
    }
   ],
   "source": [
    "x.corr()"
   ]
  },
  {
   "cell_type": "code",
   "execution_count": 89,
   "id": "21590e12",
   "metadata": {},
   "outputs": [
    {
     "data": {
      "text/plain": [
       "<AxesSubplot:>"
      ]
     },
     "execution_count": 89,
     "metadata": {},
     "output_type": "execute_result"
    },
    {
     "data": {
      "image/png": "[encoded data removed]",
      "text/plain": [
       "<Figure size 1440x1440 with 2 Axes>"
      ]
     },
     "metadata": {
      "needs_background": "light"
     },
     "output_type": "display_data"
    }
   ],
   "source": [
    "plt.figure(figsize=(20,20))\n",
    "sns.heatmap(x.corr(),annot=True,linewidths =1,linecolor = \"yellow\")"
   ]
  },
  {
   "cell_type": "markdown",
   "id": "fffd1461",
   "metadata": {},
   "source": [
    "# Variance method"
   ]
  },
  {
   "cell_type": "markdown",
   "id": "ccd7d5a0",
   "metadata": {},
   "source": [
    "It is an approach where all features are removed whose variance doesn’t meet the specific threshold. By default, this method removes features having zero variance."
   ]
  },
  {
   "cell_type": "code",
   "execution_count": 90,
   "id": "a8e3f9a6",
   "metadata": {},
   "outputs": [],
   "source": [
    "# from feature_selection import filter_method as ft\n",
    "# quasi_constant_feature=ft.constant_feature_detect(data=x,threshold=0.9)"
   ]
  },
  {
   "cell_type": "code",
   "execution_count": 91,
   "id": "2efaf145",
   "metadata": {},
   "outputs": [],
   "source": [
    "from sklearn.feature_selection import VarianceThreshold\n",
    "vt=VarianceThreshold(threshold=0.9)\n",
    "feature_zero_variance=vt.fit(x)\n",
    "feature_zero_variance=vt.get_support()"
   ]
  },
  {
   "cell_type": "code",
   "execution_count": 92,
   "id": "30f40ef3",
   "metadata": {},
   "outputs": [
    {
     "data": {
      "text/plain": [
       "array([ True, False, False,  True,  True,  True,  True,  True,  True,\n",
       "       False, False, False,  True])"
      ]
     },
     "execution_count": 92,
     "metadata": {},
     "output_type": "execute_result"
    }
   ],
   "source": [
    "feature_zero_variance"
   ]
  },
  {
   "cell_type": "code",
   "execution_count": 93,
   "id": "b2e972e5",
   "metadata": {},
   "outputs": [
    {
     "data": {
      "text/plain": [
       "Index(['num_passengers', 'purchase_lead', 'length_of_stay', 'flight_hour',\n",
       "       'flight_day', 'route', 'booking_origin', 'flight_duration'],\n",
       "      dtype='object')"
      ]
     },
     "execution_count": 93,
     "metadata": {},
     "output_type": "execute_result"
    }
   ],
   "source": [
    "# Features need to be removed - becoz variance is zero for these features\n",
    "x.columns[:][vt.get_support()]"
   ]
  },
  {
   "cell_type": "markdown",
   "id": "9224bf2f",
   "metadata": {},
   "source": [
    "# Chi-square filter"
   ]
  },
  {
   "cell_type": "code",
   "execution_count": 94,
   "id": "c8915c0f",
   "metadata": {},
   "outputs": [],
   "source": [
    "from sklearn.feature_selection import SelectKBest, chi2\n",
    "chi_2=SelectKBest(chi2,k=4)\n",
    "chi_square=chi_2.fit_transform(x,y)\n",
    "chi_square=chi_2.get_support()"
   ]
  },
  {
   "cell_type": "code",
   "execution_count": 95,
   "id": "82077876",
   "metadata": {},
   "outputs": [
    {
     "data": {
      "text/plain": [
       "Index(['purchase_lead', 'length_of_stay', 'route', 'booking_origin'], dtype='object')"
      ]
     },
     "execution_count": 95,
     "metadata": {},
     "output_type": "execute_result"
    }
   ],
   "source": [
    "# Features need to be selected which K=2 means top 2 features\n",
    "x.columns[:][chi_2.get_support()]"
   ]
  },
  {
   "cell_type": "code",
   "execution_count": 96,
   "id": "ca9aef68",
   "metadata": {},
   "outputs": [],
   "source": [
    "#pip install -U feature-engine"
   ]
  },
  {
   "cell_type": "markdown",
   "id": "c5c909ef",
   "metadata": {},
   "source": [
    "# 2. Wrapper Method"
   ]
  },
  {
   "cell_type": "raw",
   "id": "b8ca58ba",
   "metadata": {},
   "source": [
    "2. Wrapper Method\n",
    "    2.1 Forward Selection\n",
    "    2.2 Backward Elimination"
   ]
  },
  {
   "cell_type": "markdown",
   "id": "6e625979",
   "metadata": {},
   "source": [
    "# 2.1 Forward Selection"
   ]
  },
  {
   "cell_type": "code",
   "execution_count": 97,
   "id": "247fd2f0",
   "metadata": {},
   "outputs": [],
   "source": [
    "#pip install mlxtend"
   ]
  },
  {
   "cell_type": "code",
   "execution_count": 98,
   "id": "56381bee",
   "metadata": {},
   "outputs": [
    {
     "name": "stderr",
     "output_type": "stream",
     "text": [
      "Features: 4/4"
     ]
    }
   ],
   "source": [
    "from mlxtend.feature_selection import SequentialFeatureSelector as sfs\n",
    "from sklearn.linear_model import LinearRegression\n",
    "lr=LinearRegression()\n",
    "sfs=sfs(lr, k_features=4, forward=True, verbose=1)\n",
    "sfs=sfs.fit(x,y)"
   ]
  },
  {
   "cell_type": "code",
   "execution_count": 99,
   "id": "ad90499d",
   "metadata": {},
   "outputs": [
    {
     "name": "stdout",
     "output_type": "stream",
     "text": [
      "['sales_channel', 'booking_origin', 'wants_extra_baggage', 'flight_duration']\n"
     ]
    }
   ],
   "source": [
    "feat_names = list(sfs.k_feature_names_)\n",
    "print(feat_names)"
   ]
  },
  {
   "cell_type": "markdown",
   "id": "fa052795",
   "metadata": {},
   "source": [
    "# 2.2 Backward Elimination"
   ]
  },
  {
   "cell_type": "code",
   "execution_count": 100,
   "id": "5ca36c30",
   "metadata": {},
   "outputs": [],
   "source": [
    "from mlxtend.feature_selection import SequentialFeatureSelector as sfs\n",
    "from sklearn.linear_model import LinearRegression\n",
    "lr=LinearRegression()\n",
    "sfs=sfs(lr, k_features=4, forward=False, verbose=1)"
   ]
  },
  {
   "cell_type": "code",
   "execution_count": 101,
   "id": "85521919",
   "metadata": {},
   "outputs": [
    {
     "name": "stderr",
     "output_type": "stream",
     "text": [
      "Features: 4/44"
     ]
    }
   ],
   "source": [
    "sfs=sfs.fit(x,y)"
   ]
  },
  {
   "cell_type": "code",
   "execution_count": 102,
   "id": "3ca9ef46",
   "metadata": {},
   "outputs": [
    {
     "name": "stdout",
     "output_type": "stream",
     "text": [
      "['sales_channel', 'booking_origin', 'wants_extra_baggage', 'flight_duration']\n"
     ]
    }
   ],
   "source": [
    "feat_names = list(sfs.k_feature_names_)\n",
    "print(feat_names)"
   ]
  },
  {
   "cell_type": "markdown",
   "id": "e2fb8db0",
   "metadata": {},
   "source": [
    "# Splitting the train test split"
   ]
  },
  {
   "cell_type": "code",
   "execution_count": 103,
   "id": "0f371ac6",
   "metadata": {},
   "outputs": [],
   "source": [
    "from sklearn.model_selection import train_test_split\n",
    "x_train,x_test,y_train,_y_test=train_test_split(x,y,test_size=0.25,random_state=42)"
   ]
  },
  {
   "cell_type": "code",
   "execution_count": 104,
   "id": "b59bd27c",
   "metadata": {},
   "outputs": [
    {
     "data": {
      "text/plain": [
       "((37500, 13), (12500, 13))"
      ]
     },
     "execution_count": 104,
     "metadata": {},
     "output_type": "execute_result"
    }
   ],
   "source": [
    "x_train.shape,x_test.shape"
   ]
  },
  {
   "cell_type": "markdown",
   "id": "078386d2",
   "metadata": {},
   "source": [
    "# Scaling the data"
   ]
  },
  {
   "cell_type": "code",
   "execution_count": 105,
   "id": "ef01490a",
   "metadata": {},
   "outputs": [],
   "source": [
    "from sklearn.preprocessing import MinMaxScaler\n",
    "scaler=MinMaxScaler()"
   ]
  },
  {
   "cell_type": "code",
   "execution_count": 106,
   "id": "00d36461",
   "metadata": {},
   "outputs": [],
   "source": [
    "scaler=scaler.fit(x_train,x_test)\n",
    "x_train_scaled=scaler.transform(x_train)\n",
    "x_test_scaled=scaler.transform(x_test)"
   ]
  },
  {
   "cell_type": "code",
   "execution_count": 107,
   "id": "491c94b8",
   "metadata": {},
   "outputs": [
    {
     "data": {
      "text/plain": [
       "array([[0.125     , 0.        , 0.        , ..., 0.        , 0.        ,\n",
       "        0.48240166],\n",
       "       [0.        , 0.        , 0.        , ..., 0.        , 1.        ,\n",
       "        0.80952381],\n",
       "       [0.25      , 1.        , 0.        , ..., 0.        , 1.        ,\n",
       "        0.86128364],\n",
       "       ...,\n",
       "       [0.125     , 1.        , 0.        , ..., 0.        , 0.        ,\n",
       "        0.60041408],\n",
       "       [0.375     , 0.        , 0.        , ..., 0.        , 0.        ,\n",
       "        0.86128364],\n",
       "       [0.        , 0.        , 0.        , ..., 0.        , 1.        ,\n",
       "        0.13664596]])"
      ]
     },
     "execution_count": 107,
     "metadata": {},
     "output_type": "execute_result"
    }
   ],
   "source": [
    "x_train_scaled"
   ]
  },
  {
   "cell_type": "markdown",
   "id": "273fc8c1",
   "metadata": {},
   "source": [
    "# Model Creation-1 Random Forest Classifier with top 6 features"
   ]
  },
  {
   "cell_type": "code",
   "execution_count": 108,
   "id": "c3fd5596",
   "metadata": {},
   "outputs": [],
   "source": [
    "# Including only top 6 features\n",
    "features=['route','booking_origin','flight_duration','wants_extra_baggage', 'length_of_stay','num_passengers']\n",
    "x= df[features]\n",
    "\n",
    "# Creating one-hot encoding\n",
    "x=pd.get_dummies(x,columns=features)\n",
    "\n",
    "# Seperating x and y [dependent and independent features]\n",
    "x=x\n",
    "y=y\n",
    "\n",
    "# Splitting the x and y for train and test split\n",
    "x_train,x_test,y_train,y_test=train_test_split(x,y,test_size=0.25,random_state=42)\n",
    "\n",
    "# Scaling the data [x_train,x_test]\n",
    "scaler=scaler.fit(x_train,x_test)\n",
    "x_train_scaled=scaler.transform(x_train)\n",
    "x_test_scaled=scaler.transform(x_test)"
   ]
  },
  {
   "cell_type": "code",
   "execution_count": 109,
   "id": "dec14e1c",
   "metadata": {},
   "outputs": [],
   "source": [
    "# Creating the model\n",
    "from sklearn.ensemble import RandomForestClassifier\n",
    "model_1=RandomForestClassifier(random_state=1)\n",
    "model_1.fit(x_train_scaled,y_train)\n",
    "predict=model_1.predict(x_test_scaled)"
   ]
  },
  {
   "cell_type": "code",
   "execution_count": 110,
   "id": "76ee6ee6",
   "metadata": {},
   "outputs": [
    {
     "name": "stdout",
     "output_type": "stream",
     "text": [
      "Training model accuracy:0.928\n",
      "Test model accuracy:0.841\n",
      "predicted model accuracy:0.841\n",
      "predicted model roc_auc_score:0.566\n"
     ]
    }
   ],
   "source": [
    "# Model evaluation \n",
    "from sklearn.metrics import accuracy_score\n",
    "from sklearn.metrics import roc_auc_score\n",
    "print('Training model accuracy:{:.3f}'.format(model_1.score(x_train_scaled,y_train)))\n",
    "print('Test model accuracy:{:.3f}'.format(model_1.score(x_test_scaled,y_test)))\n",
    "print('predicted model accuracy:{:.3f}'.format(accuracy_score(y_test,predict)))\n",
    "print('predicted model roc_auc_score:{:.3f}'.format(roc_auc_score(y_test,predict)))"
   ]
  },
  {
   "cell_type": "markdown",
   "id": "64140e06",
   "metadata": {},
   "source": [
    "# Model-2 RandomForestClassifier with all features"
   ]
  },
  {
   "cell_type": "code",
   "execution_count": 111,
   "id": "9a6c722f",
   "metadata": {},
   "outputs": [],
   "source": [
    "# Creating dataset split definition\n",
    "def dataset(x,y):\n",
    "    train_full_x, val_x, train_full_y, val_y = train_test_split(x, y,test_size=0.2,random_state = 0)\n",
    "    x_train, x_test, y_train, y_test = train_test_split(train_full_x, train_full_y, test_size=0.25,random_state = 0)\n",
    "    return (x_train, x_test, y_train, y_test)"
   ]
  },
  {
   "cell_type": "code",
   "execution_count": 112,
   "id": "2fa780f4",
   "metadata": {},
   "outputs": [],
   "source": [
    "# creating scaling definition\n",
    "from sklearn.preprocessing import MinMaxScaler\n",
    "\n",
    "def scale(x):\n",
    "    scaler = MinMaxScaler()\n",
    "    scaler.fit(x)\n",
    "    return x"
   ]
  },
  {
   "cell_type": "code",
   "execution_count": 125,
   "id": "d7d8778a",
   "metadata": {},
   "outputs": [],
   "source": [
    "# Including only top 6 features\n",
    "x= df.drop('booking_complete',axis=1)\n",
    "y=df['booking_complete']\n",
    "\n",
    "# Creating one-hot encoding\n",
    "x=pd.get_dummies(x)\n",
    "\n",
    "# Scaling the data [x_train,x_test]\n",
    "x=scale(x)\n",
    "\n",
    "# Splitting the x and y for train and test split\n",
    "x_train,x_test,y_train,y_test=dataset(x,y)"
   ]
  },
  {
   "cell_type": "code",
   "execution_count": 127,
   "id": "3ce75bcf",
   "metadata": {},
   "outputs": [],
   "source": [
    "# Model created\n",
    "model_2= RandomForestClassifier(random_state=1)\n",
    "model_2.fit(x_train, y_train)\n",
    "preds=model_2.predict(x_test)"
   ]
  },
  {
   "cell_type": "code",
   "execution_count": 130,
   "id": "72adc216",
   "metadata": {},
   "outputs": [
    {
     "name": "stdout",
     "output_type": "stream",
     "text": [
      "Training model accuracy:1.000\n",
      "Test model accuracy:0.847\n",
      "predicted model accuracy:0.847\n",
      "predicted model roc_auc_score:0.546\n"
     ]
    }
   ],
   "source": [
    "# Evaluating the model\n",
    "print('Training model accuracy:{:.3f}'.format(model_2.score(x_train,y_train)))\n",
    "print('Test model accuracy:{:.3f}'.format(model_2.score(x_test,y_test)))\n",
    "print('predicted model accuracy:{:.3f}'.format(accuracy_score(y_test,preds)))\n",
    "print('predicted model roc_auc_score:{:.3f}'.format(roc_auc_score(y_test,preds)))"
   ]
  },
  {
   "cell_type": "markdown",
   "id": "971574f9",
   "metadata": {},
   "source": [
    "# model 3 : XGB classifier with top 6 features"
   ]
  },
  {
   "cell_type": "code",
   "execution_count": 132,
   "id": "d436e79d",
   "metadata": {},
   "outputs": [
    {
     "name": "stdout",
     "output_type": "stream",
     "text": [
      "Collecting xgboost\n",
      "  Downloading xgboost-2.0.3-py3-none-win_amd64.whl (99.8 MB)\n",
      "Requirement already satisfied: scipy in c:\\users\\dinyz\\anaconda3\\lib\\site-packages (from xgboost) (1.7.1)\n",
      "Requirement already satisfied: numpy in c:\\users\\dinyz\\anaconda3\\lib\\site-packages (from xgboost) (1.22.4)\n",
      "Note: you may need to restart the kernel to use updated packages.Installing collected packages: xgboost\n",
      "Successfully installed xgboost-2.0.3\n",
      "\n"
     ]
    }
   ],
   "source": [
    "# pip install xgboost"
   ]
  },
  {
   "cell_type": "code",
   "execution_count": 133,
   "id": "0e1b0856",
   "metadata": {},
   "outputs": [
    {
     "name": "stdout",
     "output_type": "stream",
     "text": [
      "ACCURACY:  84.99\n",
      "AUC score:  0.522893565925117\n"
     ]
    }
   ],
   "source": [
    "from xgboost import XGBClassifier\n",
    "features=['route','booking_origin','flight_duration','wants_extra_baggage', 'length_of_stay','num_passengers']\n",
    "X= df[features]\n",
    "\n",
    "#one hot encoding\n",
    "X = pd.get_dummies(X, columns=features)\n",
    "X= scale(X)\n",
    "\n",
    "y= df.booking_complete    \n",
    "\n",
    "X_train,X_test,y_train,y_val= dataset(X,y)\n",
    "xgb_model = XGBClassifier()\n",
    "\n",
    "xgb_model.fit(X_train, y_train)\n",
    "prediction_xgb = xgb_model.predict(X_test)\n",
    "print('ACCURACY: ',accuracy_score(y_val, prediction_xgb)*100)\n",
    "print('AUC score: ',roc_auc_score(y_val,prediction_xgb))"
   ]
  },
  {
   "cell_type": "markdown",
   "id": "83e93e79",
   "metadata": {},
   "source": [
    "# Model 4 XGB with all features"
   ]
  },
  {
   "cell_type": "code",
   "execution_count": 135,
   "id": "2110dfa6",
   "metadata": {},
   "outputs": [
    {
     "name": "stdout",
     "output_type": "stream",
     "text": [
      "ACCURACY:  84.85000000000001\n",
      "AUC score:  0.5411094546070015\n"
     ]
    }
   ],
   "source": [
    "\n",
    "X= df.drop('booking_complete',axis=1)\n",
    "#one hot encoding\n",
    "X = pd.get_dummies(X)\n",
    "X= scale(X)\n",
    "y= df.booking_complete \n",
    "\n",
    "X_train,X_val,y_train,y_val= dataset(X,y)\n",
    "\n",
    "\n",
    "xgb_model = XGBClassifier()\n",
    "xgb_model.fit(X_train, y_train)\n",
    "prediction_xgb = xgb_model.predict(X_val)\n",
    "print('ACCURACY: ',accuracy_score(y_val, prediction_xgb)*100)\n",
    "print('AUC score: ',roc_auc_score(y_val,prediction_xgb))"
   ]
  },
  {
   "cell_type": "code",
   "execution_count": null,
   "id": "bd684a8b",
   "metadata": {},
   "outputs": [],
   "source": []
  }
 ],
 "metadata": {
  "kernelspec": {
   "display_name": "Python 3 (ipykernel)",
   "language": "python",
   "name": "python3"
  },
  "language_info": {
   "codemirror_mode": {
    "name": "ipython",
    "version": 3
   },
   "file_extension": ".py",
   "mimetype": "text/x-python",
   "name": "python",
   "nbconvert_exporter": "python",
   "pygments_lexer": "ipython3",
   "version": "3.9.7"
  }
 },
 "nbformat": 4,
 "nbformat_minor": 5
}
